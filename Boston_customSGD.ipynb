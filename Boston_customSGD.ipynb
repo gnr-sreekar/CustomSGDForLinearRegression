{
 "cells": [
  {
   "cell_type": "code",
   "execution_count": 1,
   "metadata": {},
   "outputs": [],
   "source": [
    "from sklearn.datasets import load_boston\n",
    "import pandas as pd\n",
    "from sklearn.model_selection import train_test_split\n",
    "from sklearn.linear_model import LinearRegression\n",
    "import matplotlib.pyplot as plt\n",
    "import seaborn as sns\n",
    "import numpy as np\n",
    "from sklearn import preprocessing\n",
    "from sklearn.metrics import mean_squared_error"
   ]
  },
  {
   "cell_type": "code",
   "execution_count": 2,
   "metadata": {},
   "outputs": [],
   "source": [
    "def CustomSGD(train_data, learning_rate, n_iter, k, divideby):\n",
    "    w = np.zeros(shape=(1, train_data.shape[1]-1))\n",
    "    b = 0\n",
    "    cur_iter = 1\n",
    "    while(cur_iter<=n_iter):\n",
    "        train_sample = train_data.sample(k)\n",
    "        y = np.array(train_sample['price'])\n",
    "        X = np.array(train_sample.drop('price', axis=1))\n",
    "        w_gradient = np.zeros(shape=(1, train_data.shape[1]-1))\n",
    "        b_gradient = 0\n",
    "        \n",
    "        for i in range(k):\n",
    "            prediction = np.dot(w, X[i])+b\n",
    "            w_gradient = w_gradient + (-2)*X[i]*(y[i]-prediction)\n",
    "            b_gradient = b_gradient + (-2)*(y[i]-prediction)\n",
    "        \n",
    "        w=w-learning_rate*(w_gradient)\n",
    "        b=b-learning_rate*(b_gradient)\n",
    "        \n",
    "        cur_iter=cur_iter+1\n",
    "        learning_rate=learning_rate/divideby\n",
    "        \n",
    "    return w,b  "
   ]
  },
  {
   "cell_type": "code",
   "execution_count": 3,
   "metadata": {},
   "outputs": [],
   "source": [
    "def predict(x,w,b):\n",
    "    y_pred=[]\n",
    "    for i in range(len(x)):\n",
    "        y=np.asscalar(np.dot(w,x[i])+b)\n",
    "        y_pred.append(y)\n",
    "    return np.array(y_pred)"
   ]
  },
  {
   "cell_type": "code",
   "execution_count": 4,
   "metadata": {},
   "outputs": [
    {
     "name": "stdout",
     "output_type": "stream",
     "text": [
      "X Shape:  (506, 13)\n",
      "Y Shape:  (506,)\n",
      "X_Train Shape:  (339, 13)\n",
      "X_Test Shape:  (167, 13)\n",
      "Y_Train Shape:  (339,)\n",
      "Y_Test Shape:  (167,)\n"
     ]
    },
    {
     "data": {
      "text/plain": [
       "array([[-0.41025538,  3.12451997, -1.50339034, ..., -0.56875316,\n",
       "         0.45458104, -0.94193377],\n",
       "       [-0.18204415, -0.49424419,  1.24963837, ..., -1.78875567,\n",
       "        -0.98925333,  0.44879042],\n",
       "       [ 0.60750133, -0.49424419,  1.03337072, ...,  0.79201888,\n",
       "        -3.72039524,  0.85407132],\n",
       "       ...,\n",
       "       [-0.40830844,  1.74087485, -0.83412965, ..., -0.89721537,\n",
       "         0.45458104, -0.75178485],\n",
       "       [-0.41084932,  3.33738844, -1.43471075, ..., -2.30491058,\n",
       "         0.43981638, -1.30418828],\n",
       "       [-0.40703478, -0.49424419, -0.95541488, ..., -0.00567507,\n",
       "         0.45458104, -0.40757368]])"
      ]
     },
     "execution_count": 4,
     "metadata": {},
     "output_type": "execute_result"
    }
   ],
   "source": [
    "boston_data=pd.DataFrame(load_boston().data,columns=load_boston().feature_names)\n",
    "Y=load_boston().target\n",
    "X=load_boston().data\n",
    "x_train,x_test,y_train,y_test=train_test_split(X,Y,test_size=0.33)\n",
    "\n",
    "print(\"X Shape: \",X.shape)\n",
    "print(\"Y Shape: \",Y.shape)\n",
    "print(\"X_Train Shape: \",x_train.shape)\n",
    "print(\"X_Test Shape: \",x_test.shape)\n",
    "print(\"Y_Train Shape: \",y_train.shape)\n",
    "print(\"Y_Test Shape: \",y_test.shape)\n",
    "\n",
    "# standardizing data\n",
    "scaler = preprocessing.StandardScaler().fit(x_train)\n",
    "x_train = scaler.transform(x_train)\n",
    "x_test=scaler.transform(x_test)\n",
    "\n",
    "## Adding the PRIZE Column in the data\n",
    "train_data=pd.DataFrame(x_train)\n",
    "train_data['price']=y_train\n",
    "train_data.head(3)\n",
    "\n",
    "x_test=np.array(x_test)\n",
    "y_test=np.array(y_test)\n",
    "x_test"
   ]
  },
  {
   "cell_type": "code",
   "execution_count": 5,
   "metadata": {},
   "outputs": [
    {
     "data": {
      "image/png": "[encoded data removed]",
      "text/plain": [
       "<Figure size 432x288 with 1 Axes>"
      ]
     },
     "metadata": {
      "needs_background": "light"
     },
     "output_type": "display_data"
    },
    {
     "name": "stdout",
     "output_type": "stream",
     "text": [
      "Mean Squared Error : 3.053131749959497e+16\n"
     ]
    }
   ],
   "source": [
    "w,b=CustomSGD(train_data,learning_rate=1,n_iter=100,divideby=2,k=10)\n",
    "y_pred_customsgd=predict(x_test,w,b)\n",
    "\n",
    "plt.scatter(y_test,y_pred_customsgd)\n",
    "plt.grid()\n",
    "plt.xlabel('Actual y')\n",
    "plt.ylabel('Predicted y')\n",
    "plt.title('Scatter plot from actual y and predicted y')\n",
    "plt.show()\n",
    "print('Mean Squared Error :',mean_squared_error(y_test, y_pred_customsgd))"
   ]
  },
  {
   "cell_type": "code",
   "execution_count": 6,
   "metadata": {},
   "outputs": [
    {
     "data": {
      "image/png": "[encoded data removed]",
      "text/plain": [
       "<Figure size 432x288 with 1 Axes>"
      ]
     },
     "metadata": {
      "needs_background": "light"
     },
     "output_type": "display_data"
    },
    {
     "name": "stdout",
     "output_type": "stream",
     "text": [
      "Mean Squared Error : 19.763259269361463\n"
     ]
    }
   ],
   "source": [
    "w,b=CustomSGD(train_data,learning_rate=0.001,n_iter=1000,divideby=1,k=10)\n",
    "y_pred_customsgd_improved=predict(x_test,w,b)\n",
    "\n",
    "plt.scatter(y_test,y_pred_customsgd_improved)\n",
    "plt.grid()\n",
    "plt.xlabel('Actual y')\n",
    "plt.ylabel('Predicted y')\n",
    "plt.title('Scatter plot from actual y and predicted y')\n",
    "plt.show()\n",
    "print('Mean Squared Error :',mean_squared_error(y_test, y_pred_customsgd_improved))"
   ]
  },
  {
   "cell_type": "code",
   "execution_count": null,
   "metadata": {},
   "outputs": [],
   "source": []
  }
 ],
 "metadata": {
  "kernelspec": {
   "display_name": "Python 3",
   "language": "python",
   "name": "python3"
  },
  "language_info": {
   "codemirror_mode": {
    "name": "ipython",
    "version": 3
   },
   "file_extension": ".py",
   "mimetype": "text/x-python",
   "name": "python",
   "nbconvert_exporter": "python",
   "pygments_lexer": "ipython3",
   "version": "3.7.4"
  }
 },
 "nbformat": 4,
 "nbformat_minor": 2
}
